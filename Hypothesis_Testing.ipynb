{
  "nbformat": 4,
  "nbformat_minor": 0,
  "metadata": {
    "colab": {
      "provenance": [],
      "authorship_tag": "ABX9TyN/exoVeHNGRagaDC3f0cK7",
      "include_colab_link": true
    },
    "kernelspec": {
      "name": "python3",
      "display_name": "Python 3"
    },
    "language_info": {
      "name": "python"
    }
  },
  "cells": [
    {
      "cell_type": "markdown",
      "metadata": {
        "id": "view-in-github",
        "colab_type": "text"
      },
      "source": [
        "<a href=\"https://colab.research.google.com/github/prad69/MLNotebooks/blob/main/Hypothesis_Testing.ipynb\" target=\"_parent\"><img src=\"https://colab.research.google.com/assets/colab-badge.svg\" alt=\"Open In Colab\"/></a>"
      ]
    },
    {
      "cell_type": "code",
      "execution_count": null,
      "metadata": {
        "id": "6LIA3ECcdyVv"
      },
      "outputs": [],
      "source": [
        "pip install scipy"
      ]
    },
    {
      "cell_type": "code",
      "source": [],
      "metadata": {
        "id": "cWZVfRWIzjcq"
      },
      "execution_count": null,
      "outputs": []
    },
    {
      "cell_type": "code",
      "source": [
        "import numpy as np\n",
        "import pandas as pd\n",
        "from scipy.stats import ttest_1samp, sem, ttest_ind, t, f_oneway, f\n",
        "import matplotlib.pyplot as plt\n",
        "import seaborn as sns\n",
        "import random\n"
      ],
      "metadata": {
        "id": "TpDfnWW1zive"
      },
      "execution_count": 2,
      "outputs": []
    },
    {
      "cell_type": "code",
      "source": [
        "# Generate two random samples of size 100 from a normal distribution.\n",
        "sample_size = 100\n",
        "v1 = np.random.normal(size=sample_size)\n",
        "v2 = np.random.normal(size=sample_size)\n",
        "\n",
        "plt.figure(figsize= (8, 6))\n",
        "\n",
        "sns.histplot(v1, color='g')\n",
        "sns.histplot(v2, color='r')\n",
        "\n",
        "plt.show()"
      ],
      "metadata": {
        "colab": {
          "base_uri": "https://localhost:8080/",
          "height": 522
        },
        "id": "e8xwbvS0z8D-",
        "outputId": "bdfdec67-64e6-4028-9289-d48e53c81802"
      },
      "execution_count": 4,
      "outputs": [
        {
          "output_type": "display_data",
          "data": {
            "text/plain": [
              "<Figure size 800x600 with 1 Axes>"
            ],
            "image/png": "[encoded data removed]"
          },
          "metadata": {}
        }
      ]
    },
    {
      "cell_type": "code",
      "source": [
        "#One Sample T test\n",
        "\n",
        "\n",
        "# import packages\n",
        "import scipy.stats as stats\n",
        "import pandas as pd\n",
        "\n",
        "# loading the csv file\n",
        "data = [14, 14, 16, 13, 12, 17, 15, 14, 15, 13, 15, 14]\n",
        "\n",
        "t_statistic, p_value = stats.ttest_1samp(a=data, popmean=15)\n",
        "\n",
        "# perform one sample t-test\n",
        "print(t_statistic , p_value)"
      ],
      "metadata": {
        "colab": {
          "base_uri": "https://localhost:8080/"
        },
        "id": "ScY3hJINl2mn",
        "outputId": "95b2ce12-0b2c-4a0d-fd10-97b5a3086e89"
      },
      "execution_count": 1,
      "outputs": [
        {
          "output_type": "stream",
          "name": "stdout",
          "text": [
            "-1.6848470783484626 0.12014460742498101\n"
          ]
        }
      ]
    },
    {
      "cell_type": "code",
      "source": [
        "#two sample t test\n",
        "import scipy.stats as stats\n",
        "import numpy as np\n",
        "\n",
        "\n",
        "group1 = np.array([14, 15, 15, 16, 13, 8, 14, 17, 16, 14, 19, 20, 21, 15, 15, 16, 16, 13, 14, 12])\n",
        "group2 = np.array([15, 17, 14, 17, 14, 8, 12, 19, 19, 14, 17, 22, 24, 16, 13, 16, 13, 18, 15, 13])\n",
        "\n",
        "print(np.var(group1), np.var(group2))\n",
        "#perform two sample t-test with equal variances\n",
        "stats.ttest_ind(a=group1, b=group2, equal_var=True)"
      ],
      "metadata": {
        "colab": {
          "base_uri": "https://localhost:8080/"
        },
        "id": "2aHcyULcov_v",
        "outputId": "2c5c27ba-87a3-4262-b6ff-758163bc1368"
      },
      "execution_count": 4,
      "outputs": [
        {
          "output_type": "stream",
          "name": "stdout",
          "text": [
            "7.727500000000001 12.260000000000002\n"
          ]
        },
        {
          "output_type": "execute_result",
          "data": {
            "text/plain": [
              "Ttest_indResult(statistic=-0.6337397070250238, pvalue=0.5300471010405257)"
            ]
          },
          "metadata": {},
          "execution_count": 4
        }
      ]
    }
  ]
}